{
 "cells": [
  {
   "cell_type": "markdown",
   "metadata": {},
   "source": [
    "# DSC 80: Homework 02\n",
    "\n",
    "### Due Date: Monday, 01-21-2018 at Noon"
   ]
  },
  {
   "cell_type": "markdown",
   "metadata": {},
   "source": [
    "## Instructions\n",
    "Much like in DSC 10, this Jupyter Notebook contains the statements of the homework problems and provides code and markdown cells to display your answers to the problems. Unlike DSC 10, the notebook is *only* for displaying a readable version of your final answers. The coding work will be developed in an accompanying `hw02.py` file, that will be imported into the current notebook.\n",
    "\n",
    "Homeworks and programming assignments will be graded in (at most) two ways:\n",
    "1. The functions and classes in the accompanying python file will be tested (a la DSC 20),\n",
    "2. The notebook will be graded (for graphs and free response questions).\n",
    "\n",
    "\n",
    "**Do not change the function names in the `*.py` file**\n",
    "- The functions in the `*.py` file are how your assignment is graded, and they are graded by their name. The dictionary at the end of the file (`GRADED FUNCTIONS`) contains the \"grading list\". The final function in the file allows your doctests to check that all the necessary functions exist.\n",
    "- If you changed something you weren't supposed to, just use git to revert!\n",
    "\n",
    "**Tips for working in the Notebook**:\n",
    "- The notebooks serve to present you the questions and give you a place to present your results for later review.\n",
    "- The notebook on *HW assignments* are not graded (only the `.py` file).\n",
    "- Notebooks for PAs will serve as a final report for the assignment, and contain conclusions and answers to open ended questions that are graded.\n",
    "- The notebook serves as a nice environment for 'pre-development' and experimentation before designing your function in your `.py` file.\n",
    "\n",
    "**Tips for developing in the .py file**:\n",
    "- Do not change the function names in the starter code; grading is done using these function names.\n",
    "- Do not change the docstrings in the functions. These are there to tell you if your work is on the right track!\n",
    "- You are encouraged to write your own additional functions to solve the HW! \n",
    "    - Developing in python usually consists of larger files, with many short functions.\n",
    "    - You may write your other functions in an additional `.py` file that you import in `hw02.py` (much like we do in the notebook).\n",
    "- Always document your code!"
   ]
  },
  {
   "cell_type": "code",
   "execution_count": null,
   "metadata": {},
   "outputs": [],
   "source": [
    "%load_ext autoreload\n",
    "%autoreload 2"
   ]
  },
  {
   "cell_type": "code",
   "execution_count": null,
   "metadata": {},
   "outputs": [],
   "source": [
    "import hw02 as hw"
   ]
  },
  {
   "cell_type": "markdown",
   "metadata": {},
   "source": [
    "---"
   ]
  },
  {
   "cell_type": "code",
   "execution_count": null,
   "metadata": {},
   "outputs": [],
   "source": [
    "%matplotlib inline\n",
    "import pandas as pd\n",
    "import numpy as np"
   ]
  },
  {
   "cell_type": "markdown",
   "metadata": {},
   "source": [
    "# Flight Delays to/from San Diego\n",
    "\n",
    "The department of transportation has all flight delays for listed years on their [website](https://catalog.data.gov/dataset/airline-on-time-performance-and-causes-of-flight-delays-on-time-data). The data `flights.csv` in the current directory is a subset of this data and consists of all flights either to or from SAN (San Diego) in 2015.\n",
    "\n",
    "This full dataset has more columns than the dataset we looked at in the last homework."
   ]
  },
  {
   "cell_type": "code",
   "execution_count": null,
   "metadata": {},
   "outputs": [],
   "source": [
    "flights = pd.read_csv('flights.csv')\n",
    "flights.head().T"
   ]
  },
  {
   "cell_type": "markdown",
   "metadata": {},
   "source": [
    "### Data Types\n",
    "\n",
    "The dataframe method `describe` gives descriptive statistics for all numeric variables. However, these statistics are only appropriate for quantitative variables.\n",
    "\n",
    "**Question 1** \n",
    "\n",
    "Which of the numeric (i.e. `float`/`int`) columns in `flights` are *not* quantitative, as they are displayed in the table? That is, which columns *shouldn't* be included in the table of statistics below? \n",
    "\n",
    "Put your answer in the function `non_quant_numeric` of zero variables; it should return a list of column names."
   ]
  },
  {
   "cell_type": "code",
   "execution_count": null,
   "metadata": {},
   "outputs": [],
   "source": [
    "flights.describe().T"
   ]
  },
  {
   "cell_type": "markdown",
   "metadata": {},
   "source": [
    "### Departure vs Arrival Delay\n",
    "\n",
    "**Question 2** \n",
    "\n",
    "In the last HW, we only considered `DEPARTURE_DELAY` as the main cause of a flight delay -- that is, when the flight is late pushing off from the gate. However, there are other ways flights can be late: waiting on the tarmac, headwinds, turbulance, circling a busy airport, and waiting for a gate after landing. \n",
    "\n",
    "In this question, we'll analyze the assumptions of our analysis of delays on HW1 and take a look at all sources of delays.\n",
    "\n",
    "* First create a function `depart_arrive_stats` that takes in a dataframe like `flights` and calculates the following quantities in a list (in the given order):\n",
    "    - The proportion of flights from/to SAN that leave late, but arrive early or on-time.\n",
    "    - The proportion of flights from/to SAN that leaves early, or on-time, but arrives late.\n",
    "    - The proportion of flights from/to SAN that both left late and arrived late.\n",
    "    \n",
    "The last statistic is what we *wanted* to understand last time, but we didn't have the data to remove the flights in the first statistic. Additionally, we missed analyzing the delays considered in the middle statistics."
   ]
  },
  {
   "cell_type": "code",
   "execution_count": null,
   "metadata": {},
   "outputs": [],
   "source": []
  },
  {
   "cell_type": "code",
   "execution_count": null,
   "metadata": {},
   "outputs": [],
   "source": []
  },
  {
   "cell_type": "code",
   "execution_count": null,
   "metadata": {},
   "outputs": [],
   "source": []
  },
  {
   "cell_type": "markdown",
   "metadata": {},
   "source": [
    "**Question 3**\n",
    "\n",
    "Suppose people typically get to the airport 60 minutes before their scheduled flight departure. Define a derived field `TIME_AT_AIRPORT` defined as the minutes elapsed between arriving at the airport and actual departure.\n",
    "\n",
    "The following fields contribute to the total time spent flying from point A to point B: `TIME_AT_AIRPORT`, `TAXI_OUT`, `AIR_TIME`, `TAXI_IN`. The number of minutes attributable to delay-related reasons is given in `ARRIVAL_DELAY`. \n",
    "\n",
    "Define a function `trip_breakdown` that takes in `flights` data and returns a dataframe with columns named `TIME_AT_AIRPORT`, `TAXI_OUT`, `AIR_TIME`, `TAXI_IN`, `ARRIVAL_DELAY`. \n",
    "* The first four columns should contain the proportion of the trip spent in each of the four activities. \n",
    "* The last column should contain the proportion of the trip that's attributable to delay-related reasons (if a flight arrived early, this should be negative; if our flight should've taken 1 hour and we arrived 30 minutes early, the proportion should be -0.5).\n",
    "\n",
    "Once you've defined your function, plot the scatter-matrix below to anaylze how trip-delays are explainable by different parts of the trip."
   ]
  },
  {
   "cell_type": "code",
   "execution_count": null,
   "metadata": {},
   "outputs": [],
   "source": [
    "# this may take a while!\n",
    "pd.plotting.scatter_matrix(hw.trip_breakdown(flights), figsize=(12,12));"
   ]
  },
  {
   "cell_type": "markdown",
   "metadata": {},
   "source": [
    "### Null values in flight data"
   ]
  },
  {
   "cell_type": "markdown",
   "metadata": {},
   "source": [
    "**Question 4**\n",
    "\n",
    "* Create a function `prop_non_null` that takes in a dataframe like `flights` and returns a series whose values are the proportion of each field of `flights` which are non-null.\n",
    "* Create a function `missing_types` of zero variables, which:\n",
    "    - Returns a Series, indexed by the following columns of `flights`: `CANCELLED`, `AIRLINE_DELAY`, `CANCELLATION_REASON`, `TAIL_NUMBER`.\n",
    "    - The values should contain the most-likely missingness type of each column. \n",
    "    - The unique values of this Series should be `MD, MCAR, MAR, MNAR, NaN`. \n",
    "    - Note: judging if a field is `MCAR` vs `MAR` vs `MNAR` *is* often a judgement call.\n",
    "* The field `ARRIVAL_DELAY` is *missing by design*. Create a function `predict_null` that doesn't depend on the value of `ARRIVAL_DELAY`, that:\n",
    "    - Takes in a row of the flights data (that is, a Series)\n",
    "    - Returns `True` if the `ARRIVAL_DELAY` is null and otherwise `False`.\n",
    "    - Since the function doesn't depend on `ARRIVAL_DELAY`, it should work a row, even if that index is dropped.\n",
    "    - You can check your function by using `flights.drop('ARRIVAL_DELAY', axis=1).apply(predict_null, axis=1)`"
   ]
  },
  {
   "cell_type": "code",
   "execution_count": null,
   "metadata": {},
   "outputs": [],
   "source": []
  },
  {
   "cell_type": "code",
   "execution_count": null,
   "metadata": {},
   "outputs": [],
   "source": []
  },
  {
   "cell_type": "markdown",
   "metadata": {},
   "source": [
    "### Flight delays and day of the week\n",
    "\n",
    "**Question 5**\n",
    "\n",
    "Next, we'd like to understand the flight traffic to/from SAN by day of the week. Day of the week is specified by integers 1 through 7; verify for yourself which integer corresponds to which day (hint: you have the *date* for each flight as well!).\n",
    "\n",
    "Next create two functions to understand both the amount of traffic and the average flight delay of flights for each airline by day-of-the week. We both want to understand *presence* each airline has as well as their performance.\n",
    "\n",
    "1. Create a function `cnts_by_airline_dow` that takes in a dataframe like `flights` and outputs a dataframe with \n",
    "    - a column for each distinct value of `AIRLINE`,\n",
    "    - a row for each day of the week, and\n",
    "    - entries that give the total number of flights that airline has on that day of the week over 2015.\n",
    "2. Create a function `mean_by_airline_dow` that takes in a dataframe like `flights` and outputs a dataframe with \n",
    "    - a column for each distinct value of `AIRLINE`,\n",
    "    - a row for each day of the week, and\n",
    "    - entries that give the average `ARRIVAL_DELAY` for the flights of each airline on that day of the week.\n",
    "    \n",
    "*Hint:* Both `groupby` and `pivot` should be useful here!\n",
    "\n",
    "Your output should have the *form* of the table below (not the entries!)"
   ]
  },
  {
   "attachments": {
    "counts.png": {
     "image/png": "[encoded data removed]"
    }
   },
   "cell_type": "markdown",
   "metadata": {},
   "source": [
    "![counts.png](attachment:counts.png)"
   ]
  },
  {
   "cell_type": "code",
   "execution_count": null,
   "metadata": {},
   "outputs": [],
   "source": [
    "# hw.cnts_by_airline_dow(flights)"
   ]
  },
  {
   "cell_type": "code",
   "execution_count": null,
   "metadata": {},
   "outputs": [],
   "source": [
    "# hw.mean_by_airline_dow(flights)"
   ]
  },
  {
   "cell_type": "code",
   "execution_count": null,
   "metadata": {},
   "outputs": [],
   "source": []
  },
  {
   "cell_type": "markdown",
   "metadata": {},
   "source": [
    "# JetBlue vs Southwest\n",
    "\n",
    "The csv file `southwest_vs_jetblue.csv` contains all Southwest and JetBlue flights in 2015 that originated in the following 10 airports: ABQ, BDL, BUR, DCA, MSY, PBI, PHX, RNO, SJC, SLC."
   ]
  },
  {
   "cell_type": "code",
   "execution_count": 109,
   "metadata": {},
   "outputs": [],
   "source": [
    "jb_sw = pd.read_csv('southwest_vs_jetblue.csv')"
   ]
  },
  {
   "cell_type": "markdown",
   "metadata": {},
   "source": [
    "**Question 6**\n",
    "\n",
    "Illustrate Simpson's paradox with this dataset:\n",
    "* Calculate the proportion of each airline's flights that are delayed:\n",
    "    - Create a function `prop_delayed_by_airline` that takes in a dataframe like `jb_sw` and returns a DataFrame indexed by airline that contains the proportion of each airline's flights that are delayed.\n",
    "* Calculate these proportions across all airports in the dataset:\n",
    "    - Create a function `prop_delayed_by_airline_airport` that takes in a dataframe like `jb_sw` and returns a DataFrame, with columns given by airports, indexed by airline, that contains the proportion of each airline's flights that are delayed at each airport.\n",
    "    \n",
    "Verify that Simpson's paradox is present in this output!"
   ]
  },
  {
   "cell_type": "code",
   "execution_count": null,
   "metadata": {},
   "outputs": [],
   "source": []
  },
  {
   "cell_type": "code",
   "execution_count": null,
   "metadata": {},
   "outputs": [],
   "source": [
    "# hw.prop_delayed_by_airline(jb_sw)"
   ]
  },
  {
   "cell_type": "code",
   "execution_count": null,
   "metadata": {},
   "outputs": [],
   "source": [
    "# hw.prop_delayed_by_airline_airport(jb_sw)"
   ]
  },
  {
   "cell_type": "markdown",
   "metadata": {},
   "source": [
    "**Question 7**\n",
    "\n",
    "Next, use your work above to write a function that verifies Simpson's paradox in general. Create a function with boolean output that verifies Simpson's paradox:\n",
    "```\n",
    "verify_simpson(df, group1, group2, occur)\n",
    "```\n",
    "where,\n",
    "* `df` is a dataframe (the dataset),\n",
    "* `group1` is the first group being aggregated against,\n",
    "* `group2` is the second group being aggregated against,\n",
    "* `occur` is a column with values {0, 1}, denoting if an event occurred for that individual."
   ]
  },
  {
   "cell_type": "code",
   "execution_count": null,
   "metadata": {},
   "outputs": [],
   "source": []
  },
  {
   "cell_type": "code",
   "execution_count": null,
   "metadata": {},
   "outputs": [],
   "source": []
  },
  {
   "cell_type": "code",
   "execution_count": null,
   "metadata": {},
   "outputs": [],
   "source": []
  },
  {
   "cell_type": "markdown",
   "metadata": {},
   "source": [
    "## College scorecard \n",
    "\n",
    "The college scorecard data set contains information collated by the government to enable people to makes informed decisions on which college to attend. We will study this dataset throughout the quarter.\n",
    "\n",
    "See the website for more details: https://collegescorecard.ed.gov/data/"
   ]
  },
  {
   "cell_type": "code",
   "execution_count": null,
   "metadata": {},
   "outputs": [],
   "source": [
    "college_url = 'https://ed-public-download.app.cloud.gov/downloads/Most-Recent-Cohorts-Scorecard-Elements.csv'\n",
    "colleges = pd.read_csv(college_url)"
   ]
  },
  {
   "cell_type": "code",
   "execution_count": null,
   "metadata": {},
   "outputs": [],
   "source": [
    "colleges.head(2).T"
   ]
  },
  {
   "cell_type": "markdown",
   "metadata": {},
   "source": [
    "Wow! That's a lot of columns!\n",
    "If you'd like to see more rows/columns of a pandas dataframe by default, you can set them as follows:\n",
    "```\n",
    "pd.set_option('display.max_rows', 500)  # sets display to 500 rows\n",
    "pd.set_option('display.max_columns', 100)  # sets display to 100 columns\n",
    "```\n",
    "\n",
    "Be careful setting these numbers too large (or to `None`, which shows all rows/columns) -- it's very easy to crash your browser from trying to display a very large dataframe.\n",
    "\n",
    "* This data is short and wide: it has many attributes about a relatively few number of individuals (institutions)."
   ]
  },
  {
   "cell_type": "code",
   "execution_count": null,
   "metadata": {},
   "outputs": [],
   "source": [
    "colleges.info()"
   ]
  },
  {
   "cell_type": "markdown",
   "metadata": {},
   "source": [
    "To help understand what all these columns are, we can download the data dictionary directly:"
   ]
  },
  {
   "cell_type": "code",
   "execution_count": null,
   "metadata": {},
   "outputs": [],
   "source": [
    "data_dict_url = 'https://collegescorecard.ed.gov/assets/CollegeScorecardDataDictionary.xlsx'\n",
    "datadict = pd.read_excel(data_dict_url, sheet_name='data_dictionary')\n",
    "datadict.head()"
   ]
  },
  {
   "cell_type": "markdown",
   "metadata": {},
   "source": [
    "The college scorecard dataset has a number of 'integer-coded nominal fields'. Two of the most important codes are:\n",
    "* `PREDDEG` is the \"predominant degree type awarded\" by the college, and\n",
    "* `CONTROL` is the \"control of the institution\" (e.g. public school).\n",
    "\n",
    "The mapping of integers (\"value\") to descriptions (\"label\") is given in the data-dictionary. We would like to replace the integers-codes in the `college` dataset with their string values to make it more readable.\n",
    "\n",
    "**Question 8**\n",
    "\n",
    "Create a function `translation_dict` that takes in a dataframe of the form of `datadict` and outputs a dictionary satisfying the following conditions:\n",
    "\n",
    "1. The keys are the column names of `colleges` that are strings encoded as integers (i.e. columns for which `VALUE` and `LABEL` in `datadict` are non-empty).\n",
    "2. The values are also dictionaries; each has keys given by `VALUE` and values `LABEL`.\n",
    "\n",
    "Once this dictionary is constructed, it can be fed into Pandas DataFrame `.replace` method."
   ]
  },
  {
   "cell_type": "code",
   "execution_count": null,
   "metadata": {},
   "outputs": [],
   "source": []
  },
  {
   "cell_type": "code",
   "execution_count": null,
   "metadata": {},
   "outputs": [],
   "source": []
  },
  {
   "cell_type": "code",
   "execution_count": null,
   "metadata": {},
   "outputs": [],
   "source": []
  },
  {
   "cell_type": "markdown",
   "metadata": {},
   "source": [
    "Now we can, for example, see the breakdown of \"degrees granted\" among all US institutions:"
   ]
  },
  {
   "cell_type": "code",
   "execution_count": null,
   "metadata": {},
   "outputs": [],
   "source": [
    "trans_dict = hw.translation_dict(datadict)"
   ]
  },
  {
   "cell_type": "code",
   "execution_count": null,
   "metadata": {},
   "outputs": [],
   "source": [
    "colleges.replace(trans_dict).PREDDEG.value_counts()"
   ]
  },
  {
   "cell_type": "code",
   "execution_count": null,
   "metadata": {},
   "outputs": [],
   "source": []
  },
  {
   "cell_type": "code",
   "execution_count": null,
   "metadata": {},
   "outputs": [],
   "source": []
  },
  {
   "cell_type": "code",
   "execution_count": null,
   "metadata": {},
   "outputs": [],
   "source": []
  },
  {
   "cell_type": "code",
   "execution_count": null,
   "metadata": {},
   "outputs": [],
   "source": []
  },
  {
   "cell_type": "code",
   "execution_count": null,
   "metadata": {},
   "outputs": [],
   "source": []
  },
  {
   "cell_type": "markdown",
   "metadata": {},
   "source": [
    "**Question 9**\n",
    "\n",
    "The average net price of a Title IV institution is given by the fields `NPT4_PUB` (public) and `NPT4_PRIV` (private). \n",
    "* Create a function `merge_cost` that takes in a dataframe like `colleges` and outputs a column that contains average net price for both public and private Title IV institutions.\n",
    "* Create a function `missing_cost_prop` that takes in a dataframe like colleges and a dataframe like `title4` and returns a list with two elements (in the following order):\n",
    "    - What proportion of institutions don't report their average net price?\n",
    "    - What proportion of those not reporting their average net price are title IV institutions?\n",
    "\n",
    "You may find a list of all title IV institutions here: https://ifap.ed.gov/fedschcodelist/attachments/1920FedSchoolCodeList.xlsx\n",
    "\n",
    "*Hint*: You do not need to use a join. The Series method `.isin(list)` is helpful!\n",
    "    \n"
   ]
  },
  {
   "cell_type": "code",
   "execution_count": null,
   "metadata": {},
   "outputs": [],
   "source": [
    "title4 = pd.read_excel('https://ifap.ed.gov/fedschcodelist/attachments/1920FedSchoolCodeList.xlsx')"
   ]
  },
  {
   "cell_type": "code",
   "execution_count": null,
   "metadata": {
    "scrolled": false
   },
   "outputs": [],
   "source": []
  },
  {
   "cell_type": "code",
   "execution_count": null,
   "metadata": {},
   "outputs": [],
   "source": []
  },
  {
   "cell_type": "markdown",
   "metadata": {},
   "source": [
    "**Question 10 (Extra Credit)**\n",
    "\n",
    "*Explanation of Extra Credit*: The functions in the extra credit assignment should be saved in `extra-credit/ec_hw02py`. The extra credit on assignments in the course is due at the end of the quarter. However, you can frequently submit your work and it will get graded regularly. You are encouraged to work on these problems along with the assignment in which they are given!\n",
    "\n",
    "This question deals with looking at a [streaming algorithm](https://en.wikipedia.org/wiki/Streaming_algorithm). These are necessary when the data you are dealing with are both too large to hold in memory *and* too large to pass over twice. This situation is very common with any near real-time processing of internet data.\n",
    "\n",
    "Percentiles (e.g. median) are very useful statistics that require sorting data to accurately compute. Therefore, it's only possible to try to compute approximations of these statistics with streaming algorithms. Developing new approximations and understanding their quality is an active area of research in both academics and industry.\n",
    "\n",
    "In this problem, you are going to explore a first (*not very good*) attempt at a streaming algorithm for the median. You will use it to estimate the median `ARRIVAL_DELAY` of `flights`. This is the general idea you'll implement:\n",
    "\n",
    "1. Read in chunks of the data `N` lines at a time (e.g. using `pd.read_csv(fh, chunksize=N)`).\n",
    "2. Calculate the median of this chunk and add it to a \"list of medians\".\n",
    "3. Keep doing this; when the \"list of medians\" becomes size `k`:\n",
    "    - take the median of the list of medians.\n",
    "    - re-initialize the list of medians with only this median just computed\n",
    "\n",
    "\n",
    "Create a function `approx_median` that takes in a file-handle `fh`, a column `col`, and the numbers `N` and `k`, and outputs the approximate median as described above.\n",
    "\n",
    "Of course, the value of this approximate median depends on the order the data came in; we'd like to understand the dependency of this algorithm on the order of the dataset:\n",
    "\n",
    "* Create a function `run_flight_experiments(fh, num_exper, N, k)` that takes in the `csv` data as a file handle, the number of experiments `num_exper`, and the parameters `N` and `k` above, and computes the 95% of confidence interval of the approximate median simulation on the `ARRIVAL_DELAY` column of the flights dataset.\n",
    "    - *Hint:* you can shuffle your data using `dataframe.sample`\n",
    "    - *Hints:* you can pass a dataframe directly into read_csv, by using `StringIO` on a string; you can write your dataframe to a string using the `.to_csv()` method without any arguments.\n",
    "\n",
    "\n",
    "You should see how your results vary as `N` and `k` vary. `N=1000` and `k=3` are good starting points. What are the trade-offs of large/small `N` and `k` with repsect to computation and statistical accuracy?\n",
    "\n",
    "* Create a function `approx_median_example` of zero variables that returns a dataframe `df` with one column `col` with the following property: the true median of `df[col]` is the max value `df[col]`, but the approximate median (`N=100` and `k=3`) is the min value of `df[col]`."
   ]
  },
  {
   "cell_type": "code",
   "execution_count": null,
   "metadata": {},
   "outputs": [],
   "source": []
  },
  {
   "cell_type": "code",
   "execution_count": null,
   "metadata": {},
   "outputs": [],
   "source": []
  },
  {
   "cell_type": "code",
   "execution_count": null,
   "metadata": {},
   "outputs": [],
   "source": []
  },
  {
   "cell_type": "code",
   "execution_count": null,
   "metadata": {},
   "outputs": [],
   "source": []
  },
  {
   "cell_type": "markdown",
   "metadata": {},
   "source": [
    "# Congratulations, your done with the homework\n",
    "\n",
    "### Now, run your doctests and upload `hw02.py` to GradeScope.\n",
    "\n"
   ]
  },
  {
   "cell_type": "code",
   "execution_count": null,
   "metadata": {},
   "outputs": [],
   "source": []
  }
 ],
 "metadata": {
  "kernelspec": {
   "display_name": "Python 3",
   "language": "python",
   "name": "python3"
  },
  "language_info": {
   "codemirror_mode": {
    "name": "ipython",
    "version": 3
   },
   "file_extension": ".py",
   "mimetype": "text/x-python",
   "name": "python",
   "nbconvert_exporter": "python",
   "pygments_lexer": "ipython3",
   "version": "3.6.6"
  }
 },
 "nbformat": 4,
 "nbformat_minor": 2
}
