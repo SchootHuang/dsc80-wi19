{
 "cells": [
  {
   "cell_type": "markdown",
   "metadata": {
    "slideshow": {
     "slide_type": "slide"
    }
   },
   "source": [
    "References:\n",
    "- progrmaviz\n",
    "- geeksforgeeks\n",
    "- python.org"
   ]
  },
  {
   "cell_type": "markdown",
   "metadata": {
    "slideshow": {
     "slide_type": "slide"
    }
   },
   "source": [
    "# The pythonic way of coding."
   ]
  },
  {
   "cell_type": "markdown",
   "metadata": {
    "slideshow": {
     "slide_type": "fragment"
    }
   },
   "source": [
    "#### List comprehensions"
   ]
  },
  {
   "cell_type": "markdown",
   "metadata": {
    "slideshow": {
     "slide_type": "fragment"
    }
   },
   "source": [
    "- A better alternative to ``for`` loops. \n",
    "- Easier to code and understand. \n",
    "- (Slightly) Faster than for loops. "
   ]
  },
  {
   "cell_type": "code",
   "execution_count": 1,
   "metadata": {
    "slideshow": {
     "slide_type": "slide"
    }
   },
   "outputs": [],
   "source": [
    "# Create a list with even numbers between 0 and 20"
   ]
  },
  {
   "cell_type": "code",
   "execution_count": 2,
   "metadata": {
    "slideshow": {
     "slide_type": "fragment"
    }
   },
   "outputs": [
    {
     "name": "stdout",
     "output_type": "stream",
     "text": [
      "[0, 2, 4, 6, 8, 10, 12, 14, 16, 18]\n"
     ]
    }
   ],
   "source": [
    "even_numbers=[]\n",
    "for i in range(20):\n",
    "    if(i%2==0):\n",
    "        even_numbers.append(i)\n",
    "print(even_numbers)"
   ]
  },
  {
   "cell_type": "code",
   "execution_count": 3,
   "metadata": {
    "slideshow": {
     "slide_type": "fragment"
    }
   },
   "outputs": [
    {
     "name": "stdout",
     "output_type": "stream",
     "text": [
      "[0, 2, 4, 6, 8, 10, 12, 14, 16, 18]\n"
     ]
    }
   ],
   "source": [
    "number_list = [ x for x in range(20) if x % 2 == 0]\n",
    "print(number_list)"
   ]
  },
  {
   "cell_type": "code",
   "execution_count": 4,
   "metadata": {
    "slideshow": {
     "slide_type": "slide"
    }
   },
   "outputs": [],
   "source": [
    "# With strings"
   ]
  },
  {
   "cell_type": "code",
   "execution_count": 5,
   "metadata": {
    "slideshow": {
     "slide_type": "fragment"
    }
   },
   "outputs": [
    {
     "name": "stdout",
     "output_type": "stream",
     "text": [
      "['d', 'a', 't', 'a', ' ', 's', 'c', 'i', 'e', 'n', 'c', 'e']\n"
     ]
    }
   ],
   "source": [
    "h_letters = []\n",
    "s=\"data science\"\n",
    "\n",
    "for letter in s:\n",
    "    h_letters.append(letter)\n",
    "\n",
    "print(h_letters)"
   ]
  },
  {
   "cell_type": "code",
   "execution_count": 71,
   "metadata": {
    "slideshow": {
     "slide_type": "fragment"
    }
   },
   "outputs": [
    {
     "data": {
      "text/plain": [
       "['d', 'a', 't', 'a', ' ', 's', 'c', 'i', 'e', 'n', 'c', 'e']"
      ]
     },
     "execution_count": 71,
     "metadata": {},
     "output_type": "execute_result"
    }
   ],
   "source": [
    "[l for l in s]"
   ]
  },
  {
   "cell_type": "code",
   "execution_count": 6,
   "metadata": {
    "slideshow": {
     "slide_type": "slide"
    }
   },
   "outputs": [],
   "source": [
    "# Using conditionals"
   ]
  },
  {
   "cell_type": "code",
   "execution_count": 7,
   "metadata": {
    "slideshow": {
     "slide_type": "fragment"
    }
   },
   "outputs": [
    {
     "name": "stdout",
     "output_type": "stream",
     "text": [
      "['Even', 'Odd', 'Even', 'Odd', 'Even', 'Odd', 'Even', 'Odd', 'Even', 'Odd']\n"
     ]
    }
   ],
   "source": [
    "obj = [\"Even\" if i%2==0 else \"Odd\" for i in range(10)]\n",
    "print(obj)"
   ]
  },
  {
   "cell_type": "markdown",
   "metadata": {
    "slideshow": {
     "slide_type": "slide"
    }
   },
   "source": [
    "#### Args and kwargs"
   ]
  },
  {
   "cell_type": "markdown",
   "metadata": {
    "slideshow": {
     "slide_type": "fragment"
    }
   },
   "source": [
    "- The special parameter *args in function definitions in python is used to pass a variable number of arguments to a function.\n",
    "\n",
    "- With *args, any number of extra arguments can be tacked on to your current formal parameters (including zero extra arguments).\n",
    "\n",
    "- For example : we want to make a multiply function that takes any number of arguments and able to multiply them all together. It can be done using *args."
   ]
  },
  {
   "cell_type": "code",
   "execution_count": 8,
   "metadata": {
    "slideshow": {
     "slide_type": "slide"
    }
   },
   "outputs": [
    {
     "data": {
      "text/plain": [
       "720"
      ]
     },
     "execution_count": 8,
     "metadata": {},
     "output_type": "execute_result"
    }
   ],
   "source": [
    "# argv is a tuple\n",
    "def myFun(*argv):  \n",
    "    prdt=1\n",
    "    for arg in argv:  \n",
    "        prdt*=arg\n",
    "    return prdt\n",
    "    \n",
    "myFun(1,2,3,4,5,6)  "
   ]
  },
  {
   "cell_type": "code",
   "execution_count": 9,
   "metadata": {
    "slideshow": {
     "slide_type": "slide"
    }
   },
   "outputs": [
    {
     "name": "stdout",
     "output_type": "stream",
     "text": [
      "First argument : Hello\n",
      "Next argument through *argv : Welcome\n",
      "Next argument through *argv : to\n",
      "Next argument through *argv : DSC80\n"
     ]
    }
   ],
   "source": [
    "# Python program to illustrate  \n",
    "# *args with first extra argument \n",
    "\n",
    "def myFun(arg1, *argv): \n",
    "    print (\"First argument :\", arg1) \n",
    "    for arg in argv: \n",
    "        print(\"Next argument through *argv :\", arg) \n",
    "  \n",
    "myFun('Hello', 'Welcome', 'to', 'DSC80') "
   ]
  },
  {
   "cell_type": "markdown",
   "metadata": {
    "slideshow": {
     "slide_type": "slide"
    }
   },
   "source": [
    "- In the same way, ****kwargs** is used to pass varialbe number of arguements.  \n",
    "- These arguements, unlike those passed using *args have an identifier."
   ]
  },
  {
   "cell_type": "code",
   "execution_count": 52,
   "metadata": {
    "slideshow": {
     "slide_type": "fragment"
    }
   },
   "outputs": [
    {
     "name": "stdout",
     "output_type": "stream",
     "text": [
      "first == Geeks\n",
      "mid == for\n",
      "last == Geeks\n"
     ]
    }
   ],
   "source": [
    "def myFun(**kwargs):  \n",
    "    for key, value in kwargs.items(): \n",
    "        print (\"%s == %s\" %(key, value)) \n",
    "  \n",
    "myFun(first ='Geeks', mid ='for', last='Geeks')   "
   ]
  },
  {
   "cell_type": "markdown",
   "metadata": {
    "slideshow": {
     "slide_type": "slide"
    }
   },
   "source": [
    "### Truth value for conditional testing"
   ]
  },
  {
   "cell_type": "markdown",
   "metadata": {
    "slideshow": {
     "slide_type": "fragment"
    }
   },
   "source": [
    "Any object can be tested for truth value, for use in a conditional or as operand of the Boolean operations below. The following values are considered false:\n",
    "\n",
    "- None\n",
    "- False\n",
    "- zero of any numeric type, for example, 0, 0L, 0.0, 0j.\n",
    "- any empty sequence, for example, '', (), [].\n",
    "- any empty mapping, for example, {}."
   ]
  },
  {
   "cell_type": "code",
   "execution_count": 11,
   "metadata": {
    "slideshow": {
     "slide_type": "fragment"
    }
   },
   "outputs": [],
   "source": [
    "if(False):\n",
    "    print(\"This wont execute\")"
   ]
  },
  {
   "cell_type": "markdown",
   "metadata": {
    "slideshow": {
     "slide_type": "slide"
    }
   },
   "source": [
    "#### Unpacking tuple values \n",
    "- Tuple behave exactly like lists, but are immuatable.\n",
    "- Why use tuples?\n",
    "- How do you change \"a\" to \"b\" in (\"a\",\"c\",\"d\")"
   ]
  },
  {
   "cell_type": "code",
   "execution_count": 12,
   "metadata": {
    "slideshow": {
     "slide_type": "fragment"
    }
   },
   "outputs": [
    {
     "name": "stdout",
     "output_type": "stream",
     "text": [
      "DSC\n",
      "80\n",
      "UCSD\n"
     ]
    }
   ],
   "source": [
    "# Program to understand about packing and unpacking in Python \n",
    "# This lines PACKS values into variable a \n",
    "a = (\"DSC\", 80, \"UCSD\")   \n",
    "  \n",
    "# this lines UNPACKS values of variable a \n",
    "(Course, code, Uni) = a   \n",
    "  \n",
    "print(Course) \n",
    "print(code) \n",
    "print(Uni) "
   ]
  },
  {
   "cell_type": "markdown",
   "metadata": {
    "slideshow": {
     "slide_type": "slide"
    }
   },
   "source": [
    "#### Shallow vs deep copy in Pandas"
   ]
  },
  {
   "cell_type": "code",
   "execution_count": 13,
   "metadata": {
    "slideshow": {
     "slide_type": "fragment"
    }
   },
   "outputs": [],
   "source": [
    "import pandas as pd\n",
    "import numpy as np"
   ]
  },
  {
   "cell_type": "code",
   "execution_count": 14,
   "metadata": {
    "slideshow": {
     "slide_type": "fragment"
    }
   },
   "outputs": [
    {
     "data": {
      "text/html": [
       "<div>\n",
       "<style scoped>\n",
       "    .dataframe tbody tr th:only-of-type {\n",
       "        vertical-align: middle;\n",
       "    }\n",
       "\n",
       "    .dataframe tbody tr th {\n",
       "        vertical-align: top;\n",
       "    }\n",
       "\n",
       "    .dataframe thead th {\n",
       "        text-align: right;\n",
       "    }\n",
       "</style>\n",
       "<table border=\"1\" class=\"dataframe\">\n",
       "  <thead>\n",
       "    <tr style=\"text-align: right;\">\n",
       "      <th></th>\n",
       "      <th>col1</th>\n",
       "      <th>col2</th>\n",
       "    </tr>\n",
       "  </thead>\n",
       "  <tbody>\n",
       "    <tr>\n",
       "      <th>0</th>\n",
       "      <td>0.411008</td>\n",
       "      <td>0.976684</td>\n",
       "    </tr>\n",
       "    <tr>\n",
       "      <th>1</th>\n",
       "      <td>0.465557</td>\n",
       "      <td>0.451788</td>\n",
       "    </tr>\n",
       "    <tr>\n",
       "      <th>2</th>\n",
       "      <td>0.666848</td>\n",
       "      <td>0.814625</td>\n",
       "    </tr>\n",
       "    <tr>\n",
       "      <th>3</th>\n",
       "      <td>0.490985</td>\n",
       "      <td>0.176665</td>\n",
       "    </tr>\n",
       "    <tr>\n",
       "      <th>4</th>\n",
       "      <td>0.931537</td>\n",
       "      <td>0.342066</td>\n",
       "    </tr>\n",
       "  </tbody>\n",
       "</table>\n",
       "</div>"
      ],
      "text/plain": [
       "       col1      col2\n",
       "0  0.411008  0.976684\n",
       "1  0.465557  0.451788\n",
       "2  0.666848  0.814625\n",
       "3  0.490985  0.176665\n",
       "4  0.931537  0.342066"
      ]
     },
     "execution_count": 14,
     "metadata": {},
     "output_type": "execute_result"
    }
   ],
   "source": [
    "A=pd.DataFrame(np.random.random((5,2)),columns=[\"col1\",\"col2\"])\n",
    "A.head()"
   ]
  },
  {
   "cell_type": "code",
   "execution_count": 15,
   "metadata": {
    "slideshow": {
     "slide_type": "slide"
    }
   },
   "outputs": [
    {
     "data": {
      "text/html": [
       "<div>\n",
       "<style scoped>\n",
       "    .dataframe tbody tr th:only-of-type {\n",
       "        vertical-align: middle;\n",
       "    }\n",
       "\n",
       "    .dataframe tbody tr th {\n",
       "        vertical-align: top;\n",
       "    }\n",
       "\n",
       "    .dataframe thead th {\n",
       "        text-align: right;\n",
       "    }\n",
       "</style>\n",
       "<table border=\"1\" class=\"dataframe\">\n",
       "  <thead>\n",
       "    <tr style=\"text-align: right;\">\n",
       "      <th></th>\n",
       "      <th>col1</th>\n",
       "      <th>col2</th>\n",
       "    </tr>\n",
       "  </thead>\n",
       "  <tbody>\n",
       "    <tr>\n",
       "      <th>0</th>\n",
       "      <td>0.411008</td>\n",
       "      <td>0.976684</td>\n",
       "    </tr>\n",
       "    <tr>\n",
       "      <th>1</th>\n",
       "      <td>0.465557</td>\n",
       "      <td>0.451788</td>\n",
       "    </tr>\n",
       "    <tr>\n",
       "      <th>2</th>\n",
       "      <td>0.666848</td>\n",
       "      <td>0.814625</td>\n",
       "    </tr>\n",
       "    <tr>\n",
       "      <th>3</th>\n",
       "      <td>0.490985</td>\n",
       "      <td>0.176665</td>\n",
       "    </tr>\n",
       "    <tr>\n",
       "      <th>4</th>\n",
       "      <td>0.931537</td>\n",
       "      <td>0.342066</td>\n",
       "    </tr>\n",
       "  </tbody>\n",
       "</table>\n",
       "</div>"
      ],
      "text/plain": [
       "       col1      col2\n",
       "0  0.411008  0.976684\n",
       "1  0.465557  0.451788\n",
       "2  0.666848  0.814625\n",
       "3  0.490985  0.176665\n",
       "4  0.931537  0.342066"
      ]
     },
     "execution_count": 15,
     "metadata": {},
     "output_type": "execute_result"
    }
   ],
   "source": [
    "B=A\n",
    "B.head()"
   ]
  },
  {
   "cell_type": "code",
   "execution_count": 16,
   "metadata": {
    "slideshow": {
     "slide_type": "slide"
    }
   },
   "outputs": [],
   "source": [
    "B.drop([\"col1\"],axis=\"columns\",inplace=True)"
   ]
  },
  {
   "cell_type": "code",
   "execution_count": 17,
   "metadata": {
    "slideshow": {
     "slide_type": "fragment"
    }
   },
   "outputs": [
    {
     "data": {
      "text/html": [
       "<div>\n",
       "<style scoped>\n",
       "    .dataframe tbody tr th:only-of-type {\n",
       "        vertical-align: middle;\n",
       "    }\n",
       "\n",
       "    .dataframe tbody tr th {\n",
       "        vertical-align: top;\n",
       "    }\n",
       "\n",
       "    .dataframe thead th {\n",
       "        text-align: right;\n",
       "    }\n",
       "</style>\n",
       "<table border=\"1\" class=\"dataframe\">\n",
       "  <thead>\n",
       "    <tr style=\"text-align: right;\">\n",
       "      <th></th>\n",
       "      <th>col2</th>\n",
       "    </tr>\n",
       "  </thead>\n",
       "  <tbody>\n",
       "    <tr>\n",
       "      <th>0</th>\n",
       "      <td>0.976684</td>\n",
       "    </tr>\n",
       "    <tr>\n",
       "      <th>1</th>\n",
       "      <td>0.451788</td>\n",
       "    </tr>\n",
       "    <tr>\n",
       "      <th>2</th>\n",
       "      <td>0.814625</td>\n",
       "    </tr>\n",
       "    <tr>\n",
       "      <th>3</th>\n",
       "      <td>0.176665</td>\n",
       "    </tr>\n",
       "    <tr>\n",
       "      <th>4</th>\n",
       "      <td>0.342066</td>\n",
       "    </tr>\n",
       "  </tbody>\n",
       "</table>\n",
       "</div>"
      ],
      "text/plain": [
       "       col2\n",
       "0  0.976684\n",
       "1  0.451788\n",
       "2  0.814625\n",
       "3  0.176665\n",
       "4  0.342066"
      ]
     },
     "execution_count": 17,
     "metadata": {},
     "output_type": "execute_result"
    }
   ],
   "source": [
    "B.head()"
   ]
  },
  {
   "cell_type": "code",
   "execution_count": 18,
   "metadata": {
    "slideshow": {
     "slide_type": "slide"
    }
   },
   "outputs": [
    {
     "data": {
      "text/html": [
       "<div>\n",
       "<style scoped>\n",
       "    .dataframe tbody tr th:only-of-type {\n",
       "        vertical-align: middle;\n",
       "    }\n",
       "\n",
       "    .dataframe tbody tr th {\n",
       "        vertical-align: top;\n",
       "    }\n",
       "\n",
       "    .dataframe thead th {\n",
       "        text-align: right;\n",
       "    }\n",
       "</style>\n",
       "<table border=\"1\" class=\"dataframe\">\n",
       "  <thead>\n",
       "    <tr style=\"text-align: right;\">\n",
       "      <th></th>\n",
       "      <th>col2</th>\n",
       "    </tr>\n",
       "  </thead>\n",
       "  <tbody>\n",
       "    <tr>\n",
       "      <th>0</th>\n",
       "      <td>0.976684</td>\n",
       "    </tr>\n",
       "    <tr>\n",
       "      <th>1</th>\n",
       "      <td>0.451788</td>\n",
       "    </tr>\n",
       "    <tr>\n",
       "      <th>2</th>\n",
       "      <td>0.814625</td>\n",
       "    </tr>\n",
       "    <tr>\n",
       "      <th>3</th>\n",
       "      <td>0.176665</td>\n",
       "    </tr>\n",
       "    <tr>\n",
       "      <th>4</th>\n",
       "      <td>0.342066</td>\n",
       "    </tr>\n",
       "  </tbody>\n",
       "</table>\n",
       "</div>"
      ],
      "text/plain": [
       "       col2\n",
       "0  0.976684\n",
       "1  0.451788\n",
       "2  0.814625\n",
       "3  0.176665\n",
       "4  0.342066"
      ]
     },
     "execution_count": 18,
     "metadata": {},
     "output_type": "execute_result"
    }
   ],
   "source": [
    "A.head()"
   ]
  },
  {
   "cell_type": "markdown",
   "metadata": {
    "slideshow": {
     "slide_type": "slide"
    }
   },
   "source": [
    "### Context managers - ``with``"
   ]
  },
  {
   "cell_type": "markdown",
   "metadata": {
    "slideshow": {
     "slide_type": "fragment"
    }
   },
   "source": [
    "- Context managers allow us to allocate and release resources. "
   ]
  },
  {
   "cell_type": "code",
   "execution_count": 19,
   "metadata": {
    "slideshow": {
     "slide_type": "fragment"
    }
   },
   "outputs": [],
   "source": [
    "file=open(\"SacramentocrimeJanuary2006.csv\",\"w\")"
   ]
  },
  {
   "cell_type": "markdown",
   "metadata": {
    "slideshow": {
     "slide_type": "fragment"
    }
   },
   "source": [
    "- The file is locked for editing until it is explicity closed!"
   ]
  },
  {
   "cell_type": "code",
   "execution_count": 20,
   "metadata": {
    "slideshow": {
     "slide_type": "fragment"
    }
   },
   "outputs": [],
   "source": [
    "file.close()"
   ]
  },
  {
   "cell_type": "markdown",
   "metadata": {
    "slideshow": {
     "slide_type": "slide"
    }
   },
   "source": [
    "- Ideally, a file open would be handled in the following way:"
   ]
  },
  {
   "cell_type": "code",
   "execution_count": 21,
   "metadata": {
    "slideshow": {
     "slide_type": "fragment"
    }
   },
   "outputs": [
    {
     "name": "stdout",
     "output_type": "stream",
     "text": [
      "Closing file\n"
     ]
    }
   ],
   "source": [
    "file = open('SacramentocrimeJanuary2006.csv', 'a')\n",
    "try:\n",
    "    file.write('abcde')\n",
    "finally:\n",
    "    print(\"Closing file\")\n",
    "    file.close()"
   ]
  },
  {
   "cell_type": "markdown",
   "metadata": {
    "slideshow": {
     "slide_type": "fragment"
    }
   },
   "source": [
    "This is equivalent to:"
   ]
  },
  {
   "cell_type": "code",
   "execution_count": 22,
   "metadata": {
    "slideshow": {
     "slide_type": "fragment"
    }
   },
   "outputs": [],
   "source": [
    "with open(\"SacramentocrimeJanuary2006.csv\", 'w') as opened_file:\n",
    "    opened_file.write('abcde')"
   ]
  },
  {
   "cell_type": "markdown",
   "metadata": {
    "slideshow": {
     "slide_type": "slide"
    }
   },
   "source": [
    "### Iterators\n",
    "- An object that may be used to get the \"next\" item in an iterable. \n",
    "- Iterators are not indexible!"
   ]
  },
  {
   "cell_type": "code",
   "execution_count": 23,
   "metadata": {
    "slideshow": {
     "slide_type": "fragment"
    }
   },
   "outputs": [
    {
     "name": "stdout",
     "output_type": "stream",
     "text": [
      "apple\n",
      "banana\n",
      "cherry\n"
     ]
    }
   ],
   "source": [
    "mytuple = (\"apple\", \"banana\", \"cherry\")\n",
    "myit = iter(mytuple)\n",
    "\n",
    "print(next(myit))\n",
    "print(next(myit))\n",
    "print(next(myit))\n"
   ]
  },
  {
   "cell_type": "code",
   "execution_count": 24,
   "metadata": {
    "slideshow": {
     "slide_type": "slide"
    }
   },
   "outputs": [
    {
     "name": "stdout",
     "output_type": "stream",
     "text": [
      "apple\n",
      "banana\n",
      "cherry\n"
     ]
    }
   ],
   "source": [
    "for i in mytuple:\n",
    "    print(i)"
   ]
  },
  {
   "cell_type": "markdown",
   "metadata": {
    "slideshow": {
     "slide_type": "fragment"
    }
   },
   "source": [
    "- What really is happening in the for loop?"
   ]
  },
  {
   "cell_type": "code",
   "execution_count": 25,
   "metadata": {
    "slideshow": {
     "slide_type": "slide"
    }
   },
   "outputs": [
    {
     "name": "stdout",
     "output_type": "stream",
     "text": [
      "apple\n",
      "banana\n",
      "cherry\n"
     ]
    }
   ],
   "source": [
    "# create an iterator object from that iterable\n",
    "iter_obj = iter(mytuple)\n",
    "\n",
    "# infinite loop\n",
    "while True:\n",
    "    try:\n",
    "        # get the next item\n",
    "        element = next(iter_obj)\n",
    "        print(element)\n",
    "        # do something with element\n",
    "    except StopIteration:\n",
    "        # if StopIteration is raised, break from loop\n",
    "        break"
   ]
  },
  {
   "cell_type": "markdown",
   "metadata": {
    "slideshow": {
     "slide_type": "slide"
    }
   },
   "source": [
    "### More unpacking"
   ]
  },
  {
   "cell_type": "code",
   "execution_count": 26,
   "metadata": {
    "slideshow": {
     "slide_type": "fragment"
    }
   },
   "outputs": [],
   "source": [
    "a=10; b=20"
   ]
  },
  {
   "cell_type": "markdown",
   "metadata": {
    "slideshow": {
     "slide_type": "fragment"
    }
   },
   "source": [
    "WAP to swap a and b."
   ]
  },
  {
   "cell_type": "code",
   "execution_count": 72,
   "metadata": {
    "slideshow": {
     "slide_type": "fragment"
    }
   },
   "outputs": [],
   "source": []
  },
  {
   "cell_type": "markdown",
   "metadata": {
    "slideshow": {
     "slide_type": "slide"
    }
   },
   "source": [
    "### Create a length-N list of the same thing"
   ]
  },
  {
   "cell_type": "code",
   "execution_count": 27,
   "metadata": {
    "slideshow": {
     "slide_type": "fragment"
    }
   },
   "outputs": [],
   "source": [
    "# Create a list with 100 1s. "
   ]
  },
  {
   "cell_type": "code",
   "execution_count": null,
   "metadata": {
    "slideshow": {
     "slide_type": "fragment"
    }
   },
   "outputs": [],
   "source": []
  },
  {
   "cell_type": "markdown",
   "metadata": {
    "slideshow": {
     "slide_type": "slide"
    }
   },
   "source": [
    "### Searching for an item in a collection"
   ]
  },
  {
   "cell_type": "code",
   "execution_count": 29,
   "metadata": {
    "slideshow": {
     "slide_type": "fragment"
    }
   },
   "outputs": [
    {
     "name": "stdout",
     "output_type": "stream",
     "text": [
      "s is in dsc\n"
     ]
    }
   ],
   "source": [
    "if \"s\" in \"dsc\":\n",
    "    print(\"s is in dsc\")"
   ]
  },
  {
   "cell_type": "markdown",
   "metadata": {
    "slideshow": {
     "slide_type": "slide"
    }
   },
   "source": [
    "### Improve (Pythonize) this!"
   ]
  },
  {
   "cell_type": "code",
   "execution_count": 30,
   "metadata": {
    "slideshow": {
     "slide_type": "fragment"
    }
   },
   "outputs": [
    {
     "name": "stdout",
     "output_type": "stream",
     "text": [
      "world\n"
     ]
    }
   ],
   "source": [
    "d = {'hello': 'world'}\n",
    "if ('hello' in d):\n",
    "    print (d['hello'])    # prints 'world'\n",
    "else:\n",
    "    print('default_value')"
   ]
  },
  {
   "cell_type": "code",
   "execution_count": null,
   "metadata": {
    "slideshow": {
     "slide_type": "slide"
    }
   },
   "outputs": [],
   "source": []
  },
  {
   "cell_type": "code",
   "execution_count": null,
   "metadata": {
    "slideshow": {
     "slide_type": "fragment"
    }
   },
   "outputs": [],
   "source": []
  },
  {
   "cell_type": "markdown",
   "metadata": {
    "slideshow": {
     "slide_type": "slide"
    }
   },
   "source": [
    "* more here: https://docs.python-guide.org/writing/style/\n",
    "* and here: https://gist.github.com/dpallot/1aadff223f3b3efbec8e"
   ]
  },
  {
   "cell_type": "markdown",
   "metadata": {
    "slideshow": {
     "slide_type": "slide"
    }
   },
   "source": [
    "## Relationship between Pandas and NumPy"
   ]
  },
  {
   "cell_type": "markdown",
   "metadata": {
    "slideshow": {
     "slide_type": "fragment"
    }
   },
   "source": [
    "### Pandas requires NumPy in order to run"
   ]
  },
  {
   "cell_type": "markdown",
   "metadata": {
    "slideshow": {
     "slide_type": "fragment"
    }
   },
   "source": [
    "* The underlying data structure of pd's dataframe is np's array\n",
    "* NumPy is optimized for performing numerical computation on the collection e.g mean, meadian, etc. \n",
    "* Pandas provides another abstraction level that helps users interact with tabular data and perform analysis on them e.g. join, filter, engineer features, etc."
   ]
  },
  {
   "cell_type": "markdown",
   "metadata": {
    "slideshow": {
     "slide_type": "slide"
    }
   },
   "source": [
    "The key takeaways: \n",
    "- There are some tasks that can obviously be done using either Pandas or NumPy. \n",
    "- Pandas might not always be slower than NumPy. It depends on the task, the size of data and the environment which they're being run.\n",
    "- However, when it comes to where you need to make decision:\n",
    "    - On your development machine: choose one that is simpler to understand, easy to implement\n",
    "    - On production: choose one that has better performance"
   ]
  },
  {
   "cell_type": "code",
   "execution_count": 61,
   "metadata": {
    "slideshow": {
     "slide_type": "slide"
    }
   },
   "outputs": [
    {
     "data": {
      "text/html": [
       "<div>\n",
       "<style scoped>\n",
       "    .dataframe tbody tr th:only-of-type {\n",
       "        vertical-align: middle;\n",
       "    }\n",
       "\n",
       "    .dataframe tbody tr th {\n",
       "        vertical-align: top;\n",
       "    }\n",
       "\n",
       "    .dataframe thead th {\n",
       "        text-align: right;\n",
       "    }\n",
       "</style>\n",
       "<table border=\"1\" class=\"dataframe\">\n",
       "  <thead>\n",
       "    <tr style=\"text-align: right;\">\n",
       "      <th></th>\n",
       "      <th>cdatetime</th>\n",
       "      <th>address</th>\n",
       "      <th>district</th>\n",
       "      <th>beat</th>\n",
       "      <th>grid</th>\n",
       "      <th>crimedescr</th>\n",
       "      <th>ucr_ncic_code</th>\n",
       "      <th>latitude</th>\n",
       "      <th>longitude</th>\n",
       "    </tr>\n",
       "  </thead>\n",
       "  <tbody>\n",
       "    <tr>\n",
       "      <th>0</th>\n",
       "      <td>1/1/06 0:00</td>\n",
       "      <td>3108 OCCIDENTAL DR</td>\n",
       "      <td>3</td>\n",
       "      <td>3C</td>\n",
       "      <td>1115</td>\n",
       "      <td>10851(A)VC TAKE VEH W/O OWNER</td>\n",
       "      <td>2404</td>\n",
       "      <td>38.550420</td>\n",
       "      <td>-121.3914158</td>\n",
       "    </tr>\n",
       "    <tr>\n",
       "      <th>1</th>\n",
       "      <td>1/1/06 0:00</td>\n",
       "      <td>2082 EXPEDITION WAY</td>\n",
       "      <td>5</td>\n",
       "      <td>5A</td>\n",
       "      <td>1512</td>\n",
       "      <td>459 PC  BURGLARY RESIDENCE</td>\n",
       "      <td>2204</td>\n",
       "      <td>38.473501</td>\n",
       "      <td>-121.4901858</td>\n",
       "    </tr>\n",
       "    <tr>\n",
       "      <th>2</th>\n",
       "      <td>1/1/06 0:00</td>\n",
       "      <td>4 PALEN CT</td>\n",
       "      <td>2</td>\n",
       "      <td>2A</td>\n",
       "      <td>212</td>\n",
       "      <td>10851(A)VC TAKE VEH W/O OWNER</td>\n",
       "      <td>2404</td>\n",
       "      <td>38.657846</td>\n",
       "      <td>-121.4621009</td>\n",
       "    </tr>\n",
       "    <tr>\n",
       "      <th>3</th>\n",
       "      <td>1/1/06 0:00</td>\n",
       "      <td>22 BECKFORD CT</td>\n",
       "      <td>6</td>\n",
       "      <td>6C</td>\n",
       "      <td>1443</td>\n",
       "      <td>476 PC PASS FICTICIOUS CHECK</td>\n",
       "      <td>2501</td>\n",
       "      <td>38.506774</td>\n",
       "      <td>-121.4269508</td>\n",
       "    </tr>\n",
       "    <tr>\n",
       "      <th>4</th>\n",
       "      <td>1/1/06 0:00</td>\n",
       "      <td>3421 AUBURN BLVD</td>\n",
       "      <td>2</td>\n",
       "      <td>2A</td>\n",
       "      <td>508</td>\n",
       "      <td>459 PC  BURGLARY-UNSPECIFIED</td>\n",
       "      <td>2299</td>\n",
       "      <td>38.637448</td>\n",
       "      <td>-121.3846125</td>\n",
       "    </tr>\n",
       "    <tr>\n",
       "      <th>5</th>\n",
       "      <td>1/1/06 0:00</td>\n",
       "      <td>5301 BONNIEMAE WAY</td>\n",
       "      <td>6</td>\n",
       "      <td>6B</td>\n",
       "      <td>1084</td>\n",
       "      <td>530.5 PC USE PERSONAL ID INFO</td>\n",
       "      <td>2604</td>\n",
       "      <td>38.526979</td>\n",
       "      <td>-121.4513383</td>\n",
       "    </tr>\n",
       "    <tr>\n",
       "      <th>6</th>\n",
       "      <td>1/1/06 0:00</td>\n",
       "      <td>2217 16TH AVE</td>\n",
       "      <td>4</td>\n",
       "      <td>4A</td>\n",
       "      <td>957</td>\n",
       "      <td>459 PC  BURGLARY VEHICLE</td>\n",
       "      <td>2299</td>\n",
       "      <td>38.537173</td>\n",
       "      <td>-121.4875774</td>\n",
       "    </tr>\n",
       "    <tr>\n",
       "      <th>7</th>\n",
       "      <td>1/1/06 0:00</td>\n",
       "      <td>3547 P ST</td>\n",
       "      <td>3</td>\n",
       "      <td>3C</td>\n",
       "      <td>853</td>\n",
       "      <td>484 PC   PETTY THEFT/INSIDE</td>\n",
       "      <td>2308</td>\n",
       "      <td>38.564335</td>\n",
       "      <td>-121.4618826</td>\n",
       "    </tr>\n",
       "    <tr>\n",
       "      <th>8</th>\n",
       "      <td>1/1/06 0:00</td>\n",
       "      <td>3421 AUBURN BLVD</td>\n",
       "      <td>2</td>\n",
       "      <td>2A</td>\n",
       "      <td>508</td>\n",
       "      <td>459 PC  BURGLARY BUSINESS</td>\n",
       "      <td>2203</td>\n",
       "      <td>38.637448</td>\n",
       "      <td>-121.3846125</td>\n",
       "    </tr>\n",
       "    <tr>\n",
       "      <th>9</th>\n",
       "      <td>1/1/06 0:00</td>\n",
       "      <td>1326 HELMSMAN WAY</td>\n",
       "      <td>1</td>\n",
       "      <td>1B</td>\n",
       "      <td>444</td>\n",
       "      <td>1708 US   THEFT OF MAIL</td>\n",
       "      <td>2310</td>\n",
       "      <td>38.609602</td>\n",
       "      <td>-121.4918375</td>\n",
       "    </tr>\n",
       "  </tbody>\n",
       "</table>\n",
       "</div>"
      ],
      "text/plain": [
       "     cdatetime              address  district        beat  grid  \\\n",
       "0  1/1/06 0:00   3108 OCCIDENTAL DR         3  3C          1115   \n",
       "1  1/1/06 0:00  2082 EXPEDITION WAY         5  5A          1512   \n",
       "2  1/1/06 0:00           4 PALEN CT         2  2A           212   \n",
       "3  1/1/06 0:00       22 BECKFORD CT         6  6C          1443   \n",
       "4  1/1/06 0:00     3421 AUBURN BLVD         2  2A           508   \n",
       "5  1/1/06 0:00   5301 BONNIEMAE WAY         6  6B          1084   \n",
       "6  1/1/06 0:00        2217 16TH AVE         4  4A           957   \n",
       "7  1/1/06 0:00            3547 P ST         3  3C           853   \n",
       "8  1/1/06 0:00     3421 AUBURN BLVD         2  2A           508   \n",
       "9  1/1/06 0:00    1326 HELMSMAN WAY         1  1B           444   \n",
       "\n",
       "                      crimedescr  ucr_ncic_code   latitude     longitude  \n",
       "0  10851(A)VC TAKE VEH W/O OWNER           2404  38.550420  -121.3914158  \n",
       "1     459 PC  BURGLARY RESIDENCE           2204  38.473501  -121.4901858  \n",
       "2  10851(A)VC TAKE VEH W/O OWNER           2404  38.657846  -121.4621009  \n",
       "3   476 PC PASS FICTICIOUS CHECK           2501  38.506774  -121.4269508  \n",
       "4   459 PC  BURGLARY-UNSPECIFIED           2299  38.637448  -121.3846125  \n",
       "5  530.5 PC USE PERSONAL ID INFO           2604  38.526979  -121.4513383  \n",
       "6       459 PC  BURGLARY VEHICLE           2299  38.537173  -121.4875774  \n",
       "7    484 PC   PETTY THEFT/INSIDE           2308  38.564335  -121.4618826  \n",
       "8      459 PC  BURGLARY BUSINESS           2203  38.637448  -121.3846125  \n",
       "9        1708 US   THEFT OF MAIL           2310  38.609602  -121.4918375  "
      ]
     },
     "execution_count": 61,
     "metadata": {},
     "output_type": "execute_result"
    }
   ],
   "source": [
    "import time\n",
    "df = pd.read_csv(\"data.csv\")\n",
    "df.head(10)"
   ]
  },
  {
   "cell_type": "markdown",
   "metadata": {
    "slideshow": {
     "slide_type": "slide"
    }
   },
   "source": [
    "### Use library function to optimize time and space"
   ]
  },
  {
   "cell_type": "code",
   "execution_count": 32,
   "metadata": {
    "slideshow": {
     "slide_type": "fragment"
    }
   },
   "outputs": [
    {
     "name": "stdout",
     "output_type": "stream",
     "text": [
      "0.0007936954498291016\n"
     ]
    }
   ],
   "source": [
    "#sum data in dataframe\n",
    "import time\n",
    "t0 = time.time()\n",
    "df['grid'].sum()\n",
    "print(time.time() - t0)"
   ]
  },
  {
   "cell_type": "code",
   "execution_count": 33,
   "metadata": {
    "slideshow": {
     "slide_type": "fragment"
    }
   },
   "outputs": [
    {
     "name": "stdout",
     "output_type": "stream",
     "text": [
      "0.0022170543670654297\n"
     ]
    }
   ],
   "source": [
    "t0 = time.time()\n",
    "result = 0\n",
    "for v in df['grid'].values:\n",
    "    result += v\n",
    "print(time.time() - t0)"
   ]
  },
  {
   "cell_type": "code",
   "execution_count": 36,
   "metadata": {
    "slideshow": {
     "slide_type": "slide"
    }
   },
   "outputs": [
    {
     "name": "stdout",
     "output_type": "stream",
     "text": [
      "<class 'pandas.core.frame.DataFrame'>\n",
      "RangeIndex: 7584 entries, 0 to 7583\n",
      "Data columns (total 1 columns):\n",
      "grid    7584 non-null int64\n",
      "dtypes: int64(1)\n",
      "memory usage: 59.3 KB\n"
     ]
    }
   ],
   "source": [
    "#space usage\n",
    "df[['grid']].info()"
   ]
  },
  {
   "cell_type": "code",
   "execution_count": 37,
   "metadata": {
    "slideshow": {
     "slide_type": "fragment"
    }
   },
   "outputs": [
    {
     "data": {
      "text/plain": [
       "68.368"
      ]
     },
     "execution_count": 37,
     "metadata": {},
     "output_type": "execute_result"
    }
   ],
   "source": [
    "sys.getsizeof(list(df[['grid']].values))/1000"
   ]
  },
  {
   "cell_type": "markdown",
   "metadata": {
    "slideshow": {
     "slide_type": "slide"
    }
   },
   "source": [
    "### Types in Pandas and NumPy"
   ]
  },
  {
   "cell_type": "markdown",
   "metadata": {
    "slideshow": {
     "slide_type": "fragment"
    }
   },
   "source": [
    "|Pandas dtype|Python type|NumPy type|Usage|\n",
    "|---|---|---|---|\n",
    "|object|NA|object|Mixed types|\n",
    "|object|str|string, unicode|Text|\n",
    "|int64|int|int_, int8,...,int64, uint8,...,uint64|Integer numbers|\n",
    "|float64|float|float_, float16, float32, float64|Floating point numbers|\n",
    "|bool|bool|bool_|True/False values|\n",
    "|datetime64|NA|datetime64[ns]|Date and time values|\n",
    "|timedelta[ns]|NA|NA|Differences between two datetimes|\n",
    "|category|NA|NA|Finite list of text values|"
   ]
  },
  {
   "cell_type": "code",
   "execution_count": 38,
   "metadata": {
    "slideshow": {
     "slide_type": "slide"
    }
   },
   "outputs": [
    {
     "data": {
      "text/plain": [
       "cdatetime         object\n",
       "address           object\n",
       "district           int64\n",
       "beat              object\n",
       "grid               int64\n",
       "crimedescr        object\n",
       "ucr_ncic_code      int64\n",
       "latitude         float64\n",
       "longitude         object\n",
       "dtype: object"
      ]
     },
     "execution_count": 38,
     "metadata": {},
     "output_type": "execute_result"
    }
   ],
   "source": [
    "df = df[:100]\n",
    "df.dtypes"
   ]
  },
  {
   "cell_type": "markdown",
   "metadata": {
    "slideshow": {
     "slide_type": "slide"
    }
   },
   "source": [
    "### String "
   ]
  },
  {
   "cell_type": "markdown",
   "metadata": {
    "slideshow": {
     "slide_type": "fragment"
    }
   },
   "source": [
    "String in Numpy has fixed size (c-like) while Pandas uses native Python's string that is an object."
   ]
  },
  {
   "cell_type": "code",
   "execution_count": 39,
   "metadata": {
    "slideshow": {
     "slide_type": "fragment"
    }
   },
   "outputs": [
    {
     "data": {
      "text/plain": [
       "array(['10851(A)VC TAKE VEH W/O OWNER', '459 PC  BURGLARY RESIDENCE',\n",
       "       '10851(A)VC TAKE VEH W/O OWNER', '476 PC PASS FICTICIOUS CHECK',\n",
       "       '459 PC  BURGLARY-UNSPECIFIED', '530.5 PC USE PERSONAL ID INFO',\n",
       "       '459 PC  BURGLARY VEHICLE', '484 PC   PETTY THEFT/INSIDE',\n",
       "       '459 PC  BURGLARY BUSINESS', '1708 US   THEFT OF MAIL',\n",
       "       'ASSAULT WITH WEAPON - I RPT', '530.5 PC USE PERSONAL ID INFO',\n",
       "       'SUSP PERS-NO CRIME - I RPT', '530.5 PC USE PERSONAL ID INFO',\n",
       "       '484G(B) PC ACCESS CARD FRAUD', '487(A) PC GRAND THEFT'],\n",
       "      dtype=object)"
      ]
     },
     "execution_count": 39,
     "metadata": {},
     "output_type": "execute_result"
    }
   ],
   "source": [
    "df['crimedescr'].values[:16] #type of string here is object (even though it's np array)"
   ]
  },
  {
   "cell_type": "code",
   "execution_count": 64,
   "metadata": {
    "slideshow": {
     "slide_type": "slide"
    }
   },
   "outputs": [
    {
     "data": {
      "text/plain": [
       "array(['10851(A)VC', '459 PC  BU', '10851(A)VC', '476 PC PAS',\n",
       "       '459 PC  BU', '530.5 PC U', '459 PC  BU', '484 PC   P',\n",
       "       '459 PC  BU', '1708 US   '], dtype='<U10')"
      ]
     },
     "execution_count": 64,
     "metadata": {},
     "output_type": "execute_result"
    }
   ],
   "source": [
    "#if we were to create the same array in numpy with its original type\n",
    "# U stands for 'Unicode String'\n",
    "np.array(['10851(A)VC TAKE VEH W/O OWNER', '459 PC  BURGLARY RESIDENCE',\n",
    "       '10851(A)VC TAKE VEH W/O OWNER', '476 PC PASS FICTICIOUS CHECK',\n",
    "       '459 PC  BURGLARY-UNSPECIFIED', '530.5 PC USE PERSONAL ID INFO',\n",
    "       '459 PC  BURGLARY VEHICLE', '484 PC   PETTY THEFT/INSIDE',\n",
    "       '459 PC  BURGLARY BUSINESS', '1708 US   THEFT OF MAIL'], dtype='|U10')"
   ]
  },
  {
   "cell_type": "code",
   "execution_count": 69,
   "metadata": {
    "slideshow": {
     "slide_type": "slide"
    }
   },
   "outputs": [
    {
     "data": {
      "text/plain": [
       "0    b'10851(A)VC'\n",
       "1    b'459 PC  BU'\n",
       "2    b'10851(A)VC'\n",
       "3    b'476 PC PAS'\n",
       "4    b'459 PC  BU'\n",
       "Name: crimedescr, dtype: bytes80"
      ]
     },
     "execution_count": 69,
     "metadata": {},
     "output_type": "execute_result"
    }
   ],
   "source": [
    "#Pandas allows fixed length string too, just doesn't happen automatically\n",
    "df['crimedescr'].astype('|S10').head(5)"
   ]
  },
  {
   "cell_type": "code",
   "execution_count": 70,
   "metadata": {
    "slideshow": {
     "slide_type": "fragment"
    }
   },
   "outputs": [
    {
     "data": {
      "text/plain": [
       "0    10851(A)VC TAKE VEH W/O OWNER\n",
       "1       459 PC  BURGLARY RESIDENCE\n",
       "2    10851(A)VC TAKE VEH W/O OWNER\n",
       "3     476 PC PASS FICTICIOUS CHECK\n",
       "4     459 PC  BURGLARY-UNSPECIFIED\n",
       "Name: crimedescr, dtype: object"
      ]
     },
     "execution_count": 70,
     "metadata": {},
     "output_type": "execute_result"
    }
   ],
   "source": [
    "#Doing astype('|U10') will convert it to object in pandas again as numpy's unicode = object in padas\n",
    "df['crimedescr'].astype('|U10').head(5)"
   ]
  },
  {
   "cell_type": "markdown",
   "metadata": {
    "slideshow": {
     "slide_type": "slide"
    }
   },
   "source": [
    "### Manipulating the types"
   ]
  },
  {
   "cell_type": "code",
   "execution_count": 42,
   "metadata": {
    "slideshow": {
     "slide_type": "fragment"
    }
   },
   "outputs": [
    {
     "data": {
      "text/plain": [
       "cdatetime         object\n",
       "address           object\n",
       "district           int64\n",
       "beat              object\n",
       "grid               int64\n",
       "crimedescr        object\n",
       "ucr_ncic_code      int64\n",
       "latitude         float64\n",
       "longitude         object\n",
       "dtype: object"
      ]
     },
     "execution_count": 42,
     "metadata": {},
     "output_type": "execute_result"
    }
   ],
   "source": [
    "df.dtypes"
   ]
  },
  {
   "cell_type": "code",
   "execution_count": 43,
   "metadata": {
    "slideshow": {
     "slide_type": "slide"
    }
   },
   "outputs": [],
   "source": [
    "#using function astype() to convert a column to a specific type\n",
    "df['district'] = df['district'].astype('category')"
   ]
  },
  {
   "cell_type": "code",
   "execution_count": 44,
   "metadata": {
    "slideshow": {
     "slide_type": "fragment"
    }
   },
   "outputs": [
    {
     "data": {
      "text/plain": [
       "Int64Index([1, 2, 3, 4, 5, 6], dtype='int64')"
      ]
     },
     "execution_count": 44,
     "metadata": {},
     "output_type": "execute_result"
    }
   ],
   "source": [
    "df.district.cat.categories"
   ]
  },
  {
   "cell_type": "code",
   "execution_count": 45,
   "metadata": {
    "slideshow": {
     "slide_type": "fragment"
    }
   },
   "outputs": [],
   "source": [
    "#rename the category and it will replace the entire data for you e.g. 1->A, 2->B\n",
    "df.district = df.district.cat.rename_categories(['A', 'B', 'C', 'D', 'E', 'F'])"
   ]
  },
  {
   "cell_type": "code",
   "execution_count": 56,
   "metadata": {
    "slideshow": {
     "slide_type": "fragment"
    }
   },
   "outputs": [
    {
     "data": {
      "text/html": [
       "<div>\n",
       "<style scoped>\n",
       "    .dataframe tbody tr th:only-of-type {\n",
       "        vertical-align: middle;\n",
       "    }\n",
       "\n",
       "    .dataframe tbody tr th {\n",
       "        vertical-align: top;\n",
       "    }\n",
       "\n",
       "    .dataframe thead th {\n",
       "        text-align: right;\n",
       "    }\n",
       "</style>\n",
       "<table border=\"1\" class=\"dataframe\">\n",
       "  <thead>\n",
       "    <tr style=\"text-align: right;\">\n",
       "      <th></th>\n",
       "      <th>cdatetime</th>\n",
       "      <th>address</th>\n",
       "      <th>district</th>\n",
       "      <th>beat</th>\n",
       "      <th>grid</th>\n",
       "      <th>crimedescr</th>\n",
       "      <th>ucr_ncic_code</th>\n",
       "      <th>latitude</th>\n",
       "      <th>longitude</th>\n",
       "    </tr>\n",
       "  </thead>\n",
       "  <tbody>\n",
       "    <tr>\n",
       "      <th>0</th>\n",
       "      <td>2006-01-01</td>\n",
       "      <td>3108 OCCIDENTAL DR</td>\n",
       "      <td>C</td>\n",
       "      <td>3C</td>\n",
       "      <td>1115</td>\n",
       "      <td>10851(A)VC TAKE VEH W/O OWNER</td>\n",
       "      <td>2404</td>\n",
       "      <td>38.550420</td>\n",
       "      <td>-121.3914158</td>\n",
       "    </tr>\n",
       "    <tr>\n",
       "      <th>1</th>\n",
       "      <td>2006-01-01</td>\n",
       "      <td>2082 EXPEDITION WAY</td>\n",
       "      <td>E</td>\n",
       "      <td>5A</td>\n",
       "      <td>1512</td>\n",
       "      <td>459 PC  BURGLARY RESIDENCE</td>\n",
       "      <td>2204</td>\n",
       "      <td>38.473501</td>\n",
       "      <td>-121.4901858</td>\n",
       "    </tr>\n",
       "    <tr>\n",
       "      <th>2</th>\n",
       "      <td>2006-01-01</td>\n",
       "      <td>4 PALEN CT</td>\n",
       "      <td>B</td>\n",
       "      <td>2A</td>\n",
       "      <td>212</td>\n",
       "      <td>10851(A)VC TAKE VEH W/O OWNER</td>\n",
       "      <td>2404</td>\n",
       "      <td>38.657846</td>\n",
       "      <td>-121.4621009</td>\n",
       "    </tr>\n",
       "    <tr>\n",
       "      <th>3</th>\n",
       "      <td>2006-01-01</td>\n",
       "      <td>22 BECKFORD CT</td>\n",
       "      <td>F</td>\n",
       "      <td>6C</td>\n",
       "      <td>1443</td>\n",
       "      <td>476 PC PASS FICTICIOUS CHECK</td>\n",
       "      <td>2501</td>\n",
       "      <td>38.506774</td>\n",
       "      <td>-121.4269508</td>\n",
       "    </tr>\n",
       "  </tbody>\n",
       "</table>\n",
       "</div>"
      ],
      "text/plain": [
       "   cdatetime              address district        beat  grid  \\\n",
       "0 2006-01-01   3108 OCCIDENTAL DR        C  3C          1115   \n",
       "1 2006-01-01  2082 EXPEDITION WAY        E  5A          1512   \n",
       "2 2006-01-01           4 PALEN CT        B  2A           212   \n",
       "3 2006-01-01       22 BECKFORD CT        F  6C          1443   \n",
       "\n",
       "                      crimedescr  ucr_ncic_code   latitude     longitude  \n",
       "0  10851(A)VC TAKE VEH W/O OWNER           2404  38.550420  -121.3914158  \n",
       "1     459 PC  BURGLARY RESIDENCE           2204  38.473501  -121.4901858  \n",
       "2  10851(A)VC TAKE VEH W/O OWNER           2404  38.657846  -121.4621009  \n",
       "3   476 PC PASS FICTICIOUS CHECK           2501  38.506774  -121.4269508  "
      ]
     },
     "execution_count": 56,
     "metadata": {},
     "output_type": "execute_result"
    }
   ],
   "source": [
    "df.head(4)"
   ]
  },
  {
   "cell_type": "markdown",
   "metadata": {
    "slideshow": {
     "slide_type": "slide"
    }
   },
   "source": [
    "### What's happening under the hood?\n",
    "- Pandas store the categories as a map, where the category names are key and each key is associated with an integer value\n",
    "- This is useful because it is more space efficient (storing int instead of string objects)"
   ]
  },
  {
   "cell_type": "markdown",
   "metadata": {
    "slideshow": {
     "slide_type": "fragment"
    }
   },
   "source": [
    "<img src ='https://www.dataquest.io/blog/content/images/categorical.svg' align='middle'>"
   ]
  },
  {
   "cell_type": "markdown",
   "metadata": {
    "slideshow": {
     "slide_type": "slide"
    }
   },
   "source": [
    "In lecture you looked at astype() function, alternatively we can call conversion functions for specific types too."
   ]
  },
  {
   "cell_type": "code",
   "execution_count": 46,
   "metadata": {
    "slideshow": {
     "slide_type": "fragment"
    }
   },
   "outputs": [],
   "source": [
    "df['cdatetime'] = pd.to_datetime(df['cdatetime'], format='%d/%m/%y %H:%M')"
   ]
  },
  {
   "cell_type": "code",
   "execution_count": 47,
   "metadata": {
    "slideshow": {
     "slide_type": "fragment"
    }
   },
   "outputs": [
    {
     "data": {
      "text/plain": [
       "cdatetime        datetime64[ns]\n",
       "address                  object\n",
       "district               category\n",
       "beat                     object\n",
       "grid                      int64\n",
       "crimedescr               object\n",
       "ucr_ncic_code             int64\n",
       "latitude                float64\n",
       "longitude                object\n",
       "dtype: object"
      ]
     },
     "execution_count": 47,
     "metadata": {},
     "output_type": "execute_result"
    }
   ],
   "source": [
    "df.dtypes"
   ]
  },
  {
   "cell_type": "markdown",
   "metadata": {
    "slideshow": {
     "slide_type": "slide"
    }
   },
   "source": [
    "Having columns with the right types allows you to select columns based on the types."
   ]
  },
  {
   "cell_type": "code",
   "execution_count": 50,
   "metadata": {
    "slideshow": {
     "slide_type": "fragment"
    }
   },
   "outputs": [
    {
     "data": {
      "text/html": [
       "<div>\n",
       "<style scoped>\n",
       "    .dataframe tbody tr th:only-of-type {\n",
       "        vertical-align: middle;\n",
       "    }\n",
       "\n",
       "    .dataframe tbody tr th {\n",
       "        vertical-align: top;\n",
       "    }\n",
       "\n",
       "    .dataframe thead th {\n",
       "        text-align: right;\n",
       "    }\n",
       "</style>\n",
       "<table border=\"1\" class=\"dataframe\">\n",
       "  <thead>\n",
       "    <tr style=\"text-align: right;\">\n",
       "      <th></th>\n",
       "      <th>cdatetime</th>\n",
       "      <th>address</th>\n",
       "      <th>beat</th>\n",
       "      <th>grid</th>\n",
       "      <th>crimedescr</th>\n",
       "      <th>ucr_ncic_code</th>\n",
       "      <th>latitude</th>\n",
       "      <th>longitude</th>\n",
       "    </tr>\n",
       "  </thead>\n",
       "  <tbody>\n",
       "    <tr>\n",
       "      <th>0</th>\n",
       "      <td>2006-01-01</td>\n",
       "      <td>3108 OCCIDENTAL DR</td>\n",
       "      <td>3C</td>\n",
       "      <td>1115</td>\n",
       "      <td>10851(A)VC TAKE VEH W/O OWNER</td>\n",
       "      <td>2404</td>\n",
       "      <td>38.550420</td>\n",
       "      <td>-121.3914158</td>\n",
       "    </tr>\n",
       "    <tr>\n",
       "      <th>1</th>\n",
       "      <td>2006-01-01</td>\n",
       "      <td>2082 EXPEDITION WAY</td>\n",
       "      <td>5A</td>\n",
       "      <td>1512</td>\n",
       "      <td>459 PC  BURGLARY RESIDENCE</td>\n",
       "      <td>2204</td>\n",
       "      <td>38.473501</td>\n",
       "      <td>-121.4901858</td>\n",
       "    </tr>\n",
       "  </tbody>\n",
       "</table>\n",
       "</div>"
      ],
      "text/plain": [
       "   cdatetime              address        beat  grid  \\\n",
       "0 2006-01-01   3108 OCCIDENTAL DR  3C          1115   \n",
       "1 2006-01-01  2082 EXPEDITION WAY  5A          1512   \n",
       "\n",
       "                      crimedescr  ucr_ncic_code   latitude     longitude  \n",
       "0  10851(A)VC TAKE VEH W/O OWNER           2404  38.550420  -121.3914158  \n",
       "1     459 PC  BURGLARY RESIDENCE           2204  38.473501  -121.4901858  "
      ]
     },
     "execution_count": 50,
     "metadata": {},
     "output_type": "execute_result"
    }
   ],
   "source": [
    "df.select_dtypes(exclude=['category']).head(2)"
   ]
  },
  {
   "cell_type": "code",
   "execution_count": 51,
   "metadata": {
    "slideshow": {
     "slide_type": "fragment"
    }
   },
   "outputs": [
    {
     "data": {
      "text/html": [
       "<div>\n",
       "<style scoped>\n",
       "    .dataframe tbody tr th:only-of-type {\n",
       "        vertical-align: middle;\n",
       "    }\n",
       "\n",
       "    .dataframe tbody tr th {\n",
       "        vertical-align: top;\n",
       "    }\n",
       "\n",
       "    .dataframe thead th {\n",
       "        text-align: right;\n",
       "    }\n",
       "</style>\n",
       "<table border=\"1\" class=\"dataframe\">\n",
       "  <thead>\n",
       "    <tr style=\"text-align: right;\">\n",
       "      <th></th>\n",
       "      <th>grid</th>\n",
       "      <th>ucr_ncic_code</th>\n",
       "      <th>latitude</th>\n",
       "    </tr>\n",
       "  </thead>\n",
       "  <tbody>\n",
       "    <tr>\n",
       "      <th>0</th>\n",
       "      <td>1115</td>\n",
       "      <td>2404</td>\n",
       "      <td>38.550420</td>\n",
       "    </tr>\n",
       "    <tr>\n",
       "      <th>1</th>\n",
       "      <td>1512</td>\n",
       "      <td>2204</td>\n",
       "      <td>38.473501</td>\n",
       "    </tr>\n",
       "  </tbody>\n",
       "</table>\n",
       "</div>"
      ],
      "text/plain": [
       "   grid  ucr_ncic_code   latitude\n",
       "0  1115           2404  38.550420\n",
       "1  1512           2204  38.473501"
      ]
     },
     "execution_count": 51,
     "metadata": {},
     "output_type": "execute_result"
    }
   ],
   "source": [
    "#select all numerics\n",
    "df.select_dtypes(include=['int', 'float']).head(2)"
   ]
  },
  {
   "cell_type": "markdown",
   "metadata": {
    "slideshow": {
     "slide_type": "slide"
    }
   },
   "source": [
    "## Dealing with Warning Messages"
   ]
  },
  {
   "cell_type": "markdown",
   "metadata": {
    "slideshow": {
     "slide_type": "fragment"
    }
   },
   "source": [
    "- It doesn't mean that your solution is wrong\n",
    "- However, I would recommend trying to fix them (if it comes from your code) because:\n",
    "    - Warning messages can reduce the readability of your code and hence harder to debug and scale in the future\n",
    "    - Sometimes it helps you optimize your code or call libraries in a more appropriate way\n",
    "- If it comes from function calls inside the library that you are using:\n",
    "    - You can ignore it or try to upgrade to the next version"
   ]
  }
 ],
 "metadata": {
  "celltoolbar": "Slideshow",
  "kernelspec": {
   "display_name": "Python [conda env:py36]",
   "language": "python",
   "name": "conda-env-py36-py"
  },
  "language_info": {
   "codemirror_mode": {
    "name": "ipython",
    "version": 3
   },
   "file_extension": ".py",
   "mimetype": "text/x-python",
   "name": "python",
   "nbconvert_exporter": "python",
   "pygments_lexer": "ipython3",
   "version": "3.7.1"
  }
 },
 "nbformat": 4,
 "nbformat_minor": 2
}
